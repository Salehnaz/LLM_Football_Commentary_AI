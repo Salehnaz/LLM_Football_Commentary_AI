{
  "cells": [
    {
      "cell_type": "markdown",
      "metadata": {
        "id": "view-in-github",
        "colab_type": "text"
      },
      "source": [
        "<a href=\"https://colab.research.google.com/github/Salehnaz/LLM_Football_Commentary_AI/blob/main/CommentaryAI_Football_Colab.ipynb\" target=\"_parent\"><img src=\"https://colab.research.google.com/assets/colab-badge.svg\" alt=\"Open In Colab\"/></a>"
      ]
    },
    {
      "cell_type": "markdown",
      "id": "c7825672",
      "metadata": {
        "id": "c7825672"
      },
      "source": [
        "# ⚽ CommentaryAI - Football Event Classifier\n",
        "A simple transformer-based AI model that reads football commentary lines and classifies the event (Goal, Miss, Save, etc.).\n",
        "\n",
        "🔍 No traditional if-else coding — just AI learning from text patterns!\n",
        "\n",
        "---"
      ]
    },
    {
      "cell_type": "code",
      "execution_count": null,
      "id": "ca5f2f66",
      "metadata": {
        "id": "ca5f2f66",
        "colab": {
          "base_uri": "https://localhost:8080/"
        },
        "outputId": "a39ab43b-efa7-4419-9530-6c921a40f326"
      },
      "outputs": [
        {
          "output_type": "stream",
          "name": "stdout",
          "text": [
            "\u001b[2K   \u001b[90m━━━━━━━━━━━━━━━━━━━━━━━━━━━━━━━━━━━━━━━━\u001b[0m \u001b[32m363.4/363.4 MB\u001b[0m \u001b[31m4.4 MB/s\u001b[0m eta \u001b[36m0:00:00\u001b[0m\n",
            "\u001b[2K   \u001b[90m━━━━━━━━━━━━━━━━━━━━━━━━━━━━━━━━━━━━━━━━\u001b[0m \u001b[32m13.8/13.8 MB\u001b[0m \u001b[31m105.3 MB/s\u001b[0m eta \u001b[36m0:00:00\u001b[0m\n",
            "\u001b[2K   \u001b[90m━━━━━━━━━━━━━━━━━━━━━━━━━━━━━━━━━━━━━━━━\u001b[0m \u001b[32m24.6/24.6 MB\u001b[0m \u001b[31m83.1 MB/s\u001b[0m eta \u001b[36m0:00:00\u001b[0m\n",
            "\u001b[2K   \u001b[90m━━━━━━━━━━━━━━━━━━━━━━━━━━━━━━━━━━━━━━━━\u001b[0m \u001b[32m883.7/883.7 kB\u001b[0m \u001b[31m45.5 MB/s\u001b[0m eta \u001b[36m0:00:00\u001b[0m\n",
            "\u001b[2K   \u001b[90m━━━━━━━━━━━━━━━━━━━━━━━━━━━━━━━━━━━━━━━━\u001b[0m \u001b[32m664.8/664.8 MB\u001b[0m \u001b[31m2.1 MB/s\u001b[0m eta \u001b[36m0:00:00\u001b[0m\n",
            "\u001b[2K   \u001b[90m━━━━━━━━━━━━━━━━━━━━━━━━━━━━━━━━━━━━━━━━\u001b[0m \u001b[32m211.5/211.5 MB\u001b[0m \u001b[31m6.9 MB/s\u001b[0m eta \u001b[36m0:00:00\u001b[0m\n",
            "\u001b[2K   \u001b[90m━━━━━━━━━━━━━━━━━━━━━━━━━━━━━━━━━━━━━━━━\u001b[0m \u001b[32m56.3/56.3 MB\u001b[0m \u001b[31m12.0 MB/s\u001b[0m eta \u001b[36m0:00:00\u001b[0m\n",
            "\u001b[2K   \u001b[90m━━━━━━━━━━━━━━━━━━━━━━━━━━━━━━━━━━━━━━━━\u001b[0m \u001b[32m127.9/127.9 MB\u001b[0m \u001b[31m7.5 MB/s\u001b[0m eta \u001b[36m0:00:00\u001b[0m\n",
            "\u001b[2K   \u001b[90m━━━━━━━━━━━━━━━━━━━━━━━━━━━━━━━━━━━━━━━━\u001b[0m \u001b[32m207.5/207.5 MB\u001b[0m \u001b[31m5.7 MB/s\u001b[0m eta \u001b[36m0:00:00\u001b[0m\n",
            "\u001b[2K   \u001b[90m━━━━━━━━━━━━━━━━━━━━━━━━━━━━━━━━━━━━━━━━\u001b[0m \u001b[32m188.7/188.7 MB\u001b[0m \u001b[31m7.4 MB/s\u001b[0m eta \u001b[36m0:00:00\u001b[0m\n",
            "\u001b[2K   \u001b[90m━━━━━━━━━━━━━━━━━━━━━━━━━━━━━━━━━━━━━━━━\u001b[0m \u001b[32m21.1/21.1 MB\u001b[0m \u001b[31m63.2 MB/s\u001b[0m eta \u001b[36m0:00:00\u001b[0m\n",
            "\u001b[?25h"
          ]
        }
      ],
      "source": [
        "# 🛠️ Install dependencies\n",
        "!pip install torch scikit-learn --quiet\n"
      ]
    },
    {
      "cell_type": "code",
      "source": [
        "import os\n",
        "print(os.getcwd())\n",
        "\n",
        "from google.colab import files\n",
        "\n",
        "# Upload your CSV\n",
        "uploaded = files.upload()\n",
        "\n",
        "import pandas as pd\n",
        "\n",
        "# Now read it\n",
        "df = pd.read_csv(\"commentary_dataset_200.csv\")\n",
        "print(df.head())"
      ],
      "metadata": {
        "colab": {
          "base_uri": "https://localhost:8080/",
          "height": 194
        },
        "id": "FNF0PjKTRXIU",
        "outputId": "6c3dbe71-1410-460a-e138-61cd59ec7c07"
      },
      "id": "FNF0PjKTRXIU",
      "execution_count": null,
      "outputs": [
        {
          "output_type": "stream",
          "name": "stdout",
          "text": [
            "/content\n"
          ]
        },
        {
          "output_type": "display_data",
          "data": {
            "text/plain": [
              "<IPython.core.display.HTML object>"
            ],
            "text/html": [
              "\n",
              "     <input type=\"file\" id=\"files-08d8d7e4-15b3-4703-a30c-e591cbc79a85\" name=\"files[]\" multiple disabled\n",
              "        style=\"border:none\" />\n",
              "     <output id=\"result-08d8d7e4-15b3-4703-a30c-e591cbc79a85\">\n",
              "      Upload widget is only available when the cell has been executed in the\n",
              "      current browser session. Please rerun this cell to enable.\n",
              "      </output>\n",
              "      <script>// Copyright 2017 Google LLC\n",
              "//\n",
              "// Licensed under the Apache License, Version 2.0 (the \"License\");\n",
              "// you may not use this file except in compliance with the License.\n",
              "// You may obtain a copy of the License at\n",
              "//\n",
              "//      http://www.apache.org/licenses/LICENSE-2.0\n",
              "//\n",
              "// Unless required by applicable law or agreed to in writing, software\n",
              "// distributed under the License is distributed on an \"AS IS\" BASIS,\n",
              "// WITHOUT WARRANTIES OR CONDITIONS OF ANY KIND, either express or implied.\n",
              "// See the License for the specific language governing permissions and\n",
              "// limitations under the License.\n",
              "\n",
              "/**\n",
              " * @fileoverview Helpers for google.colab Python module.\n",
              " */\n",
              "(function(scope) {\n",
              "function span(text, styleAttributes = {}) {\n",
              "  const element = document.createElement('span');\n",
              "  element.textContent = text;\n",
              "  for (const key of Object.keys(styleAttributes)) {\n",
              "    element.style[key] = styleAttributes[key];\n",
              "  }\n",
              "  return element;\n",
              "}\n",
              "\n",
              "// Max number of bytes which will be uploaded at a time.\n",
              "const MAX_PAYLOAD_SIZE = 100 * 1024;\n",
              "\n",
              "function _uploadFiles(inputId, outputId) {\n",
              "  const steps = uploadFilesStep(inputId, outputId);\n",
              "  const outputElement = document.getElementById(outputId);\n",
              "  // Cache steps on the outputElement to make it available for the next call\n",
              "  // to uploadFilesContinue from Python.\n",
              "  outputElement.steps = steps;\n",
              "\n",
              "  return _uploadFilesContinue(outputId);\n",
              "}\n",
              "\n",
              "// This is roughly an async generator (not supported in the browser yet),\n",
              "// where there are multiple asynchronous steps and the Python side is going\n",
              "// to poll for completion of each step.\n",
              "// This uses a Promise to block the python side on completion of each step,\n",
              "// then passes the result of the previous step as the input to the next step.\n",
              "function _uploadFilesContinue(outputId) {\n",
              "  const outputElement = document.getElementById(outputId);\n",
              "  const steps = outputElement.steps;\n",
              "\n",
              "  const next = steps.next(outputElement.lastPromiseValue);\n",
              "  return Promise.resolve(next.value.promise).then((value) => {\n",
              "    // Cache the last promise value to make it available to the next\n",
              "    // step of the generator.\n",
              "    outputElement.lastPromiseValue = value;\n",
              "    return next.value.response;\n",
              "  });\n",
              "}\n",
              "\n",
              "/**\n",
              " * Generator function which is called between each async step of the upload\n",
              " * process.\n",
              " * @param {string} inputId Element ID of the input file picker element.\n",
              " * @param {string} outputId Element ID of the output display.\n",
              " * @return {!Iterable<!Object>} Iterable of next steps.\n",
              " */\n",
              "function* uploadFilesStep(inputId, outputId) {\n",
              "  const inputElement = document.getElementById(inputId);\n",
              "  inputElement.disabled = false;\n",
              "\n",
              "  const outputElement = document.getElementById(outputId);\n",
              "  outputElement.innerHTML = '';\n",
              "\n",
              "  const pickedPromise = new Promise((resolve) => {\n",
              "    inputElement.addEventListener('change', (e) => {\n",
              "      resolve(e.target.files);\n",
              "    });\n",
              "  });\n",
              "\n",
              "  const cancel = document.createElement('button');\n",
              "  inputElement.parentElement.appendChild(cancel);\n",
              "  cancel.textContent = 'Cancel upload';\n",
              "  const cancelPromise = new Promise((resolve) => {\n",
              "    cancel.onclick = () => {\n",
              "      resolve(null);\n",
              "    };\n",
              "  });\n",
              "\n",
              "  // Wait for the user to pick the files.\n",
              "  const files = yield {\n",
              "    promise: Promise.race([pickedPromise, cancelPromise]),\n",
              "    response: {\n",
              "      action: 'starting',\n",
              "    }\n",
              "  };\n",
              "\n",
              "  cancel.remove();\n",
              "\n",
              "  // Disable the input element since further picks are not allowed.\n",
              "  inputElement.disabled = true;\n",
              "\n",
              "  if (!files) {\n",
              "    return {\n",
              "      response: {\n",
              "        action: 'complete',\n",
              "      }\n",
              "    };\n",
              "  }\n",
              "\n",
              "  for (const file of files) {\n",
              "    const li = document.createElement('li');\n",
              "    li.append(span(file.name, {fontWeight: 'bold'}));\n",
              "    li.append(span(\n",
              "        `(${file.type || 'n/a'}) - ${file.size} bytes, ` +\n",
              "        `last modified: ${\n",
              "            file.lastModifiedDate ? file.lastModifiedDate.toLocaleDateString() :\n",
              "                                    'n/a'} - `));\n",
              "    const percent = span('0% done');\n",
              "    li.appendChild(percent);\n",
              "\n",
              "    outputElement.appendChild(li);\n",
              "\n",
              "    const fileDataPromise = new Promise((resolve) => {\n",
              "      const reader = new FileReader();\n",
              "      reader.onload = (e) => {\n",
              "        resolve(e.target.result);\n",
              "      };\n",
              "      reader.readAsArrayBuffer(file);\n",
              "    });\n",
              "    // Wait for the data to be ready.\n",
              "    let fileData = yield {\n",
              "      promise: fileDataPromise,\n",
              "      response: {\n",
              "        action: 'continue',\n",
              "      }\n",
              "    };\n",
              "\n",
              "    // Use a chunked sending to avoid message size limits. See b/62115660.\n",
              "    let position = 0;\n",
              "    do {\n",
              "      const length = Math.min(fileData.byteLength - position, MAX_PAYLOAD_SIZE);\n",
              "      const chunk = new Uint8Array(fileData, position, length);\n",
              "      position += length;\n",
              "\n",
              "      const base64 = btoa(String.fromCharCode.apply(null, chunk));\n",
              "      yield {\n",
              "        response: {\n",
              "          action: 'append',\n",
              "          file: file.name,\n",
              "          data: base64,\n",
              "        },\n",
              "      };\n",
              "\n",
              "      let percentDone = fileData.byteLength === 0 ?\n",
              "          100 :\n",
              "          Math.round((position / fileData.byteLength) * 100);\n",
              "      percent.textContent = `${percentDone}% done`;\n",
              "\n",
              "    } while (position < fileData.byteLength);\n",
              "  }\n",
              "\n",
              "  // All done.\n",
              "  yield {\n",
              "    response: {\n",
              "      action: 'complete',\n",
              "    }\n",
              "  };\n",
              "}\n",
              "\n",
              "scope.google = scope.google || {};\n",
              "scope.google.colab = scope.google.colab || {};\n",
              "scope.google.colab._files = {\n",
              "  _uploadFiles,\n",
              "  _uploadFilesContinue,\n",
              "};\n",
              "})(self);\n",
              "</script> "
            ]
          },
          "metadata": {}
        },
        {
          "output_type": "stream",
          "name": "stdout",
          "text": [
            "Saving commentary_dataset_200.csv to commentary_dataset_200.csv\n",
            "                       commentary    label\n",
            "0  Skillful dribble near the box.  DRIBBLE\n",
            "1  Tackles and clears the danger!   TACKLE\n",
            "2     Illegal tackle from behind!     FOUL\n",
            "3           Great sliding tackle!   TACKLE\n",
            "4    Rough challenge from behind!     FOUL\n"
          ]
        }
      ]
    },
    {
      "cell_type": "code",
      "execution_count": null,
      "id": "8d63b229",
      "metadata": {
        "colab": {
          "base_uri": "https://localhost:8080/"
        },
        "id": "8d63b229",
        "outputId": "5e67172e-b0da-47e5-e24c-302e43445774"
      },
      "outputs": [
        {
          "output_type": "stream",
          "name": "stdout",
          "text": [
            "                       commentary    label\n",
            "0  Skillful dribble near the box.  DRIBBLE\n",
            "1  Tackles and clears the danger!   TACKLE\n",
            "2     Illegal tackle from behind!     FOUL\n",
            "3           Great sliding tackle!   TACKLE\n",
            "4    Rough challenge from behind!     FOUL\n"
          ]
        }
      ],
      "source": [
        "# 📦 Step 1: Prepare Sample Data\n",
        "# samples = [\n",
        "#     (\"He shoots and scores!\", \"GOAL\"),\n",
        "#     (\"That’s a brilliant save by the keeper!\", \"SAVE\"),\n",
        "#     (\"He passes it to the wing.\", \"PASS\"),\n",
        "#     (\"It’s wide of the post!\", \"MISS\"),\n",
        "#     (\"He takes a long shot!\", \"SHOT\"),\n",
        "#     (\"He beats the defender with a dribble.\", \"DRIBBLE\"),\n",
        "#     (\"That’s a foul by the defender!\", \"FOUL\"),\n",
        "#     (\"Header from the corner — goal!\", \"GOAL\"),\n",
        "#     (\"The striker completely misses the target.\", \"MISS\"),\n",
        "#     (\"He calmly rolls it to the midfielder.\", \"PASS\"),\n",
        "# ]\n",
        "\n",
        "import pandas as pd\n",
        "\n",
        "# 📦 Load data from uploaded CSV\n",
        "df = pd.read_csv(\"commentary_dataset_200.csv\")\n",
        "\n",
        "# See a preview\n",
        "print(df.head())\n",
        "\n",
        "# Extract samples\n",
        "samples = list(zip(df['commentary'], df['label']))\n",
        "\n"
      ]
    },
    {
      "cell_type": "code",
      "source": [
        "from google.colab import drive\n",
        "drive.mount('/content/drive')"
      ],
      "metadata": {
        "id": "-jYjZoCbQRSg",
        "colab": {
          "base_uri": "https://localhost:8080/"
        },
        "outputId": "efdb25ca-7eae-435d-85e7-31b1a2656ce3"
      },
      "id": "-jYjZoCbQRSg",
      "execution_count": null,
      "outputs": [
        {
          "output_type": "stream",
          "name": "stdout",
          "text": [
            "Mounted at /content/drive\n"
          ]
        }
      ]
    },
    {
      "cell_type": "code",
      "execution_count": null,
      "id": "fb32cfa9",
      "metadata": {
        "id": "fb32cfa9"
      },
      "outputs": [],
      "source": [
        "# 🔠 Step 2: Tokenization\n",
        "token2idx = {\"<PAD>\": 0, \"<UNK>\": 1}\n",
        "for sentence, _ in samples:\n",
        "    for token in sentence.lower().split():\n",
        "        if token not in token2idx:\n",
        "            token2idx[token] = len(token2idx)\n",
        "\n",
        "def encode_sentence(sentence, max_len=10):\n",
        "    tokens = sentence.lower().split()\n",
        "    token_ids = [token2idx.get(tok, token2idx[\"<UNK>\"]) for tok in tokens]\n",
        "    return token_ids[:max_len] + [0] * (max_len - len(token_ids))\n",
        "\n",
        "X = [encode_sentence(s, max_len=10) for s, _ in samples]\n",
        "\n",
        "from sklearn.preprocessing import LabelEncoder\n",
        "le = LabelEncoder()\n",
        "y = le.fit_transform([label for _, label in samples])\n"
      ]
    },
    {
      "cell_type": "code",
      "execution_count": null,
      "id": "e839bd87",
      "metadata": {
        "id": "e839bd87"
      },
      "outputs": [],
      "source": [
        "# 📚 Step 3: Dataset & Transformer Model\n",
        "import torch\n",
        "from torch import nn\n",
        "from torch.utils.data import Dataset, DataLoader\n",
        "\n",
        "class CommentaryDataset(Dataset):\n",
        "    def __init__(self, X, y):\n",
        "        self.X = torch.tensor(X)\n",
        "        self.y = torch.tensor(y)\n",
        "    def __len__(self): return len(self.X)\n",
        "    def __getitem__(self, idx): return self.X[idx], self.y[idx]\n",
        "\n",
        "class CommentaryAIModel(nn.Module):\n",
        "    def __init__(self, vocab_size, embed_dim, num_classes):\n",
        "        super().__init__()\n",
        "        self.embedding = nn.Embedding(vocab_size, embed_dim)\n",
        "        encoder_layer = nn.TransformerEncoderLayer(d_model=embed_dim, nhead=2)\n",
        "        self.transformer = nn.TransformerEncoder(encoder_layer, num_layers=1)\n",
        "        self.fc = nn.Linear(embed_dim, num_classes)\n",
        "    def forward(self, x):\n",
        "        x = self.embedding(x)\n",
        "        x = x.permute(1, 0, 2)\n",
        "        x = self.transformer(x)\n",
        "        x = x.mean(dim=0)\n",
        "        return self.fc(x)\n"
      ]
    },
    {
      "cell_type": "code",
      "execution_count": null,
      "id": "91a13480",
      "metadata": {
        "id": "91a13480",
        "colab": {
          "base_uri": "https://localhost:8080/"
        },
        "outputId": "861e97cd-8142-498c-9e9c-a2fc48a9c6c1"
      },
      "outputs": [
        {
          "output_type": "stream",
          "name": "stderr",
          "text": [
            "/usr/local/lib/python3.11/dist-packages/torch/nn/modules/transformer.py:385: UserWarning: enable_nested_tensor is True, but self.use_nested_tensor is False because encoder_layer.self_attn.batch_first was not True(use batch_first for better inference performance)\n",
            "  warnings.warn(\n"
          ]
        },
        {
          "output_type": "stream",
          "name": "stdout",
          "text": [
            "📘 Epoch 1 - Loss: 124.8263 - Accuracy: 4/100\n",
            "📘 Epoch 2 - Loss: 114.9972 - Accuracy: 15/100\n",
            "📘 Epoch 3 - Loss: 109.2129 - Accuracy: 19/100\n",
            "📘 Epoch 4 - Loss: 101.2718 - Accuracy: 44/100\n",
            "📘 Epoch 5 - Loss: 94.8293 - Accuracy: 42/100\n",
            "📘 Epoch 6 - Loss: 80.7811 - Accuracy: 51/100\n",
            "📘 Epoch 7 - Loss: 63.3782 - Accuracy: 71/100\n",
            "📘 Epoch 8 - Loss: 49.2317 - Accuracy: 82/100\n",
            "📘 Epoch 9 - Loss: 40.1438 - Accuracy: 85/100\n",
            "📘 Epoch 10 - Loss: 31.2573 - Accuracy: 89/100\n",
            "📘 Epoch 11 - Loss: 25.0213 - Accuracy: 91/100\n",
            "📘 Epoch 12 - Loss: 16.3532 - Accuracy: 100/100\n",
            "📘 Epoch 13 - Loss: 12.9587 - Accuracy: 98/100\n",
            "📘 Epoch 14 - Loss: 8.7893 - Accuracy: 98/100\n",
            "📘 Epoch 15 - Loss: 6.8741 - Accuracy: 100/100\n",
            "📘 Epoch 16 - Loss: 5.1186 - Accuracy: 100/100\n",
            "📘 Epoch 17 - Loss: 4.5150 - Accuracy: 100/100\n",
            "📘 Epoch 18 - Loss: 3.9146 - Accuracy: 100/100\n",
            "📘 Epoch 19 - Loss: 3.6629 - Accuracy: 100/100\n",
            "📘 Epoch 20 - Loss: 2.6891 - Accuracy: 100/100\n",
            "📘 Epoch 21 - Loss: 2.5126 - Accuracy: 100/100\n",
            "📘 Epoch 22 - Loss: 1.7171 - Accuracy: 100/100\n",
            "📘 Epoch 23 - Loss: 1.5102 - Accuracy: 100/100\n",
            "📘 Epoch 24 - Loss: 1.3100 - Accuracy: 100/100\n",
            "📘 Epoch 25 - Loss: 1.1174 - Accuracy: 100/100\n",
            "📘 Epoch 26 - Loss: 1.0153 - Accuracy: 100/100\n",
            "📘 Epoch 27 - Loss: 0.8890 - Accuracy: 100/100\n",
            "📘 Epoch 28 - Loss: 0.7990 - Accuracy: 100/100\n",
            "📘 Epoch 29 - Loss: 0.6708 - Accuracy: 100/100\n",
            "📘 Epoch 30 - Loss: 0.6806 - Accuracy: 100/100\n",
            "📘 Epoch 31 - Loss: 0.6114 - Accuracy: 100/100\n",
            "📘 Epoch 32 - Loss: 0.6287 - Accuracy: 100/100\n",
            "📘 Epoch 33 - Loss: 0.5562 - Accuracy: 100/100\n",
            "📘 Epoch 34 - Loss: 0.5034 - Accuracy: 100/100\n",
            "📘 Epoch 35 - Loss: 0.4389 - Accuracy: 100/100\n",
            "📘 Epoch 36 - Loss: 0.4410 - Accuracy: 100/100\n",
            "📘 Epoch 37 - Loss: 0.3864 - Accuracy: 100/100\n",
            "📘 Epoch 38 - Loss: 0.3778 - Accuracy: 100/100\n",
            "📘 Epoch 39 - Loss: 0.3460 - Accuracy: 100/100\n",
            "📘 Epoch 40 - Loss: 0.2961 - Accuracy: 100/100\n",
            "📘 Epoch 41 - Loss: 0.2970 - Accuracy: 100/100\n",
            "📘 Epoch 42 - Loss: 0.2668 - Accuracy: 100/100\n",
            "📘 Epoch 43 - Loss: 0.2829 - Accuracy: 100/100\n",
            "📘 Epoch 44 - Loss: 0.2817 - Accuracy: 100/100\n",
            "📘 Epoch 45 - Loss: 0.2662 - Accuracy: 100/100\n",
            "📘 Epoch 46 - Loss: 0.2068 - Accuracy: 100/100\n",
            "📘 Epoch 47 - Loss: 0.2096 - Accuracy: 100/100\n",
            "📘 Epoch 48 - Loss: 0.1961 - Accuracy: 100/100\n",
            "📘 Epoch 49 - Loss: 0.1784 - Accuracy: 100/100\n",
            "📘 Epoch 50 - Loss: 0.1932 - Accuracy: 100/100\n",
            "📘 Epoch 51 - Loss: 0.1714 - Accuracy: 100/100\n",
            "📘 Epoch 52 - Loss: 0.1770 - Accuracy: 100/100\n",
            "📘 Epoch 53 - Loss: 0.1728 - Accuracy: 100/100\n",
            "📘 Epoch 54 - Loss: 0.1862 - Accuracy: 100/100\n",
            "📘 Epoch 55 - Loss: 0.1389 - Accuracy: 100/100\n",
            "📘 Epoch 56 - Loss: 0.1356 - Accuracy: 100/100\n",
            "📘 Epoch 57 - Loss: 0.1250 - Accuracy: 100/100\n",
            "📘 Epoch 58 - Loss: 0.1061 - Accuracy: 100/100\n",
            "📘 Epoch 59 - Loss: 0.1212 - Accuracy: 100/100\n",
            "📘 Epoch 60 - Loss: 0.1083 - Accuracy: 100/100\n",
            "📘 Epoch 61 - Loss: 0.1023 - Accuracy: 100/100\n",
            "📘 Epoch 62 - Loss: 0.1099 - Accuracy: 100/100\n",
            "📘 Epoch 63 - Loss: 0.1033 - Accuracy: 100/100\n",
            "📘 Epoch 64 - Loss: 0.1042 - Accuracy: 100/100\n",
            "📘 Epoch 65 - Loss: 0.0872 - Accuracy: 100/100\n",
            "📘 Epoch 66 - Loss: 0.0944 - Accuracy: 100/100\n",
            "📘 Epoch 67 - Loss: 0.0824 - Accuracy: 100/100\n",
            "📘 Epoch 68 - Loss: 0.1166 - Accuracy: 100/100\n",
            "📘 Epoch 69 - Loss: 0.1045 - Accuracy: 100/100\n",
            "📘 Epoch 70 - Loss: 0.0884 - Accuracy: 100/100\n",
            "📘 Epoch 71 - Loss: 0.0713 - Accuracy: 100/100\n",
            "📘 Epoch 72 - Loss: 0.0695 - Accuracy: 100/100\n",
            "📘 Epoch 73 - Loss: 0.0587 - Accuracy: 100/100\n",
            "📘 Epoch 74 - Loss: 0.0632 - Accuracy: 100/100\n",
            "📘 Epoch 75 - Loss: 0.0559 - Accuracy: 100/100\n",
            "📘 Epoch 76 - Loss: 0.0512 - Accuracy: 100/100\n",
            "📘 Epoch 77 - Loss: 0.0576 - Accuracy: 100/100\n",
            "📘 Epoch 78 - Loss: 0.0521 - Accuracy: 100/100\n",
            "📘 Epoch 79 - Loss: 0.0522 - Accuracy: 100/100\n",
            "📘 Epoch 80 - Loss: 0.0450 - Accuracy: 100/100\n",
            "📘 Epoch 81 - Loss: 0.0508 - Accuracy: 100/100\n",
            "📘 Epoch 82 - Loss: 0.0461 - Accuracy: 100/100\n",
            "📘 Epoch 83 - Loss: 0.0423 - Accuracy: 100/100\n",
            "📘 Epoch 84 - Loss: 0.0423 - Accuracy: 100/100\n",
            "📘 Epoch 85 - Loss: 0.0454 - Accuracy: 100/100\n",
            "📘 Epoch 86 - Loss: 0.0471 - Accuracy: 100/100\n",
            "📘 Epoch 87 - Loss: 0.0461 - Accuracy: 100/100\n",
            "📘 Epoch 88 - Loss: 0.0415 - Accuracy: 100/100\n",
            "📘 Epoch 89 - Loss: 0.0321 - Accuracy: 100/100\n",
            "📘 Epoch 90 - Loss: 0.0370 - Accuracy: 100/100\n",
            "📘 Epoch 91 - Loss: 0.0349 - Accuracy: 100/100\n",
            "📘 Epoch 92 - Loss: 0.0306 - Accuracy: 100/100\n",
            "📘 Epoch 93 - Loss: 0.0314 - Accuracy: 100/100\n",
            "📘 Epoch 94 - Loss: 0.0319 - Accuracy: 100/100\n",
            "📘 Epoch 95 - Loss: 0.0376 - Accuracy: 100/100\n",
            "📘 Epoch 96 - Loss: 0.0240 - Accuracy: 100/100\n",
            "📘 Epoch 97 - Loss: 0.0215 - Accuracy: 100/100\n",
            "📘 Epoch 98 - Loss: 0.0333 - Accuracy: 100/100\n",
            "📘 Epoch 99 - Loss: 0.0283 - Accuracy: 100/100\n",
            "📘 Epoch 100 - Loss: 0.0239 - Accuracy: 100/100\n"
          ]
        }
      ],
      "source": [
        "# 🧠 Step 4: Training the model\n",
        "dataset = CommentaryDataset(X, y)\n",
        "loader = DataLoader(dataset, batch_size=2, shuffle=True)\n",
        "model = CommentaryAIModel(vocab_size=len(token2idx), embed_dim=32, num_classes=len(le.classes_))\n",
        "optimizer = torch.optim.Adam(model.parameters(), lr=0.001)\n",
        "loss_fn = nn.CrossEntropyLoss()\n",
        "\n",
        "for epoch in range(100):\n",
        "    total_loss, correct = 0, 0\n",
        "    for xb, yb in loader:\n",
        "        preds = model(xb)\n",
        "        loss = loss_fn(preds, yb)\n",
        "        loss.backward()\n",
        "        optimizer.step()\n",
        "        optimizer.zero_grad()\n",
        "        total_loss += loss.item()\n",
        "        correct += (preds.argmax(dim=1) == yb).sum().item()\n",
        "    print(f\"📘 Epoch {epoch+1} - Loss: {total_loss:.4f} - Accuracy: {correct}/{len(dataset)}\")\n"
      ]
    },
    {
      "cell_type": "code",
      "execution_count": null,
      "id": "16a88487",
      "metadata": {
        "id": "16a88487",
        "colab": {
          "base_uri": "https://localhost:8080/"
        },
        "outputId": "1bfab324-2c66-47c1-b3ba-fc359e768c36"
      },
      "outputs": [
        {
          "output_type": "stream",
          "name": "stdout",
          "text": [
            "\n",
            "🧠 Predictions:\n",
            "He smashes it into the net! → GOAL\n",
            "The ball is passed across the field. → PASS\n",
            "Great dribble from midfield! → TACKLE\n",
            "Misses the chance to equalize. → MISS\n",
            "That tackle might be a foul. → FOUL\n"
          ]
        }
      ],
      "source": [
        "# 🧪 Step 5: Inference (No if-else!)\n",
        "def predict_commentary(sentence):\n",
        "    model.eval()\n",
        "    with torch.no_grad():\n",
        "        encoded = torch.tensor([encode_sentence(sentence, max_len=10)])\n",
        "        output = model(encoded)\n",
        "        pred = torch.argmax(output, dim=1).item()\n",
        "        return le.inverse_transform([pred])[0]\n",
        "\n",
        "# 🔍 Try with new sentences\n",
        "test_lines = [\n",
        "    \"He smashes it into the net!\",\n",
        "    \"The ball is passed across the field.\",\n",
        "    \"Great dribble from midfield!\",\n",
        "    \"Misses the chance to equalize.\",\n",
        "    \"That tackle might be a foul.\",\n",
        "]\n",
        "\n",
        "print(\"\\n🧠 Predictions:\")\n",
        "for line in test_lines:\n",
        "    print(f\"{line} → {predict_commentary(line)}\")\n"
      ]
    }
  ],
  "metadata": {
    "colab": {
      "provenance": [],
      "include_colab_link": true
    },
    "language_info": {
      "name": "python"
    },
    "kernelspec": {
      "name": "python3",
      "display_name": "Python 3"
    }
  },
  "nbformat": 4,
  "nbformat_minor": 5
}